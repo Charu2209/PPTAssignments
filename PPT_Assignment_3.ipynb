{
 "cells": [
  {
   "cell_type": "markdown",
   "id": "51209d3a",
   "metadata": {},
   "source": [
    "### Question1"
   ]
  },
  {
   "cell_type": "code",
   "execution_count": 38,
   "id": "19650869",
   "metadata": {},
   "outputs": [
    {
     "data": {
      "text/plain": [
       "8"
      ]
     },
     "execution_count": 38,
     "metadata": {},
     "output_type": "execute_result"
    }
   ],
   "source": [
    "def question1(nums,target):\n",
    "    ''' This function find the sum of 3 integers in a list that is closest to target'''\n",
    "    i=nums[0]\n",
    "    j=nums[1]\n",
    "    k=nums[2]\n",
    "    sum1=i+j+k\n",
    "\n",
    "    \n",
    "    for m in range(3,len(nums)):\n",
    "     \n",
    "        if sum1==target :\n",
    "       \n",
    "            return sum1\n",
    "        else:\n",
    "            diff = target-sum1\n",
    "          \n",
    "            diff1 = target-(sum1+nums[m]-i)\n",
    "            \n",
    "            diff2 = target-(sum1+nums[m]-j)\n",
    "            \n",
    "            diff3 = target-(sum1+nums[m]-k)\n",
    "            \n",
    "            min1 = min(abs(diff1),abs(diff2),abs(diff3))\n",
    "          \n",
    "            if min1<abs(diff):\n",
    "                \n",
    "                \n",
    "                if min1==abs(diff1):\n",
    "                    sum1 = sum1+nums[m]-i\n",
    "                    i=nums[m]\n",
    "                elif min1==abs(diff2):\n",
    "                    sum1 = sum1+nums[m]-j\n",
    "                    j=nums[m]\n",
    "                elif min1==abs(diff3):\n",
    "                    sum1 = sum1+nums[m]-k\n",
    "                    k=nums[m]\n",
    "    return sum1\n",
    "    \n",
    "question1([-1,-4,1,2,7,10,9,1,4,5,6],8)\n",
    "            \n",
    "                \n",
    "            \n",
    "                \n",
    "            \n",
    "        \n",
    "    "
   ]
  },
  {
   "cell_type": "markdown",
   "id": "833e493d",
   "metadata": {},
   "source": [
    "### Question 3"
   ]
  },
  {
   "cell_type": "code",
   "execution_count": 34,
   "id": "4926c7de",
   "metadata": {},
   "outputs": [
    {
     "name": "stdout",
     "output_type": "stream",
     "text": [
      "3\n",
      "[1, 2, 3, 4, 5]\n"
     ]
    }
   ],
   "source": [
    "def next_lexo_permutation(nums):\n",
    "    \n",
    "    last = len(nums)-1\n",
    "    k=last-1\n",
    "    i=0\n",
    "    print(k)\n",
    "    while(i<len(nums)-1):\n",
    "        if(nums[k]>max(nums[k+1:])):\n",
    "            k-=1\n",
    "            i+=1\n",
    "        else:\n",
    "            #finding the max element from the remaining list\n",
    "            max_ele_index = nums.index(max(nums[k+1:]))\n",
    "            print(\"ax_ele_index\",max_ele_index)\n",
    "            \n",
    "            # swaping\n",
    "            temp=nums[max_ele_index]\n",
    "            nums[max_ele_index]=nums[k]\n",
    "            nums[k]=temp\n",
    "            print(\"nums\",nums)\n",
    "\n",
    "            #sorting of remaining elements\n",
    "            nums=nums[:k+1]+sorted(nums[k+1:])\n",
    "            break\n",
    "    else:\n",
    "        nums.sort()\n",
    "           \n",
    "    print(nums)\n",
    "            \n",
    "            \n",
    "            \n",
    "next_lexo_permutation([5,4,3,2,1])\n",
    "\n",
    "    "
   ]
  },
  {
   "cell_type": "markdown",
   "id": "89ccb8fe",
   "metadata": {},
   "source": [
    "### Question 4"
   ]
  },
  {
   "cell_type": "code",
   "execution_count": 19,
   "id": "1a8af5f9",
   "metadata": {},
   "outputs": [
    {
     "data": {
      "text/plain": [
       "2"
      ]
     },
     "execution_count": 19,
     "metadata": {},
     "output_type": "execute_result"
    }
   ],
   "source": [
    "class SearchInsertPosition(object):\n",
    "    def searchInsert(self, nums, target):\n",
    "        \"\"\"This function search for the value and return its index and if not found return the\n",
    "        index where it can be inserted\"\"\"\n",
    "\n",
    "        start = 0\n",
    "        end = len(nums) - 1\n",
    "        \n",
    "        while (start <= end):\n",
    "            \n",
    "            mid = (start + end)//2\n",
    "             \n",
    "            if nums[mid] == target:\n",
    "                return mid\n",
    "            \n",
    "            elif target > nums[mid]:\n",
    "                start = mid + 1\n",
    "                \n",
    "            else:\n",
    "                end = mid -1\n",
    "        \n",
    "        return end + 1 # return the insert position\n",
    "obj = SearchInsertPosition()\n",
    "obj.searchInsert([1,3,5,6],5)"
   ]
  },
  {
   "cell_type": "markdown",
   "id": "e77da5a2",
   "metadata": {},
   "source": [
    "### Question 5"
   ]
  },
  {
   "cell_type": "code",
   "execution_count": 8,
   "id": "b12e49e4",
   "metadata": {},
   "outputs": [
    {
     "name": "stdout",
     "output_type": "stream",
     "text": [
      "124\n"
     ]
    },
    {
     "data": {
      "text/plain": [
       "[1, 2, 4]"
      ]
     },
     "execution_count": 8,
     "metadata": {},
     "output_type": "execute_result"
    }
   ],
   "source": [
    "def increment_large_integer(digits):\n",
    "    num = int(''.join(str(a) for a in digits))\n",
    "    num+=1\n",
    "    \n",
    "    return [int(i) for i in str(num)]\n",
    "\n",
    "increment_large_integer([1,2,3])"
   ]
  },
  {
   "cell_type": "markdown",
   "id": "61113fc6",
   "metadata": {},
   "source": [
    "### Question 6"
   ]
  },
  {
   "cell_type": "code",
   "execution_count": 8,
   "id": "faf122cf",
   "metadata": {},
   "outputs": [
    {
     "data": {
      "text/plain": [
       "6"
      ]
     },
     "execution_count": 8,
     "metadata": {},
     "output_type": "execute_result"
    }
   ],
   "source": [
    "def non_dup_element(nums):\n",
    "    \n",
    "    nums.sort()\n",
    "    i,j=0,1\n",
    "    \n",
    "    while(j<len(nums)):\n",
    "        if(nums[i]==nums[j]):\n",
    "            i+=2\n",
    "            j=i+1\n",
    "        else:\n",
    "            return nums[i]\n",
    "    else:\n",
    "        return nums[i]\n",
    "       \n",
    "\n",
    "non_dup_element([2,2,1,4,4,5,5,1,6])\n",
    "\n",
    "    "
   ]
  },
  {
   "cell_type": "markdown",
   "id": "1ef95d55",
   "metadata": {},
   "source": [
    "### Question 7"
   ]
  },
  {
   "cell_type": "code",
   "execution_count": 10,
   "id": "8f083b9b",
   "metadata": {},
   "outputs": [
    {
     "name": "stdout",
     "output_type": "stream",
     "text": [
      "Not enough elements in the list\n"
     ]
    }
   ],
   "source": [
    "def shortest_ranges_of_missing_num(nums, lower,upper):\n",
    "\n",
    "    result = []\n",
    "    i=0\n",
    "    j=1\n",
    "    if(len(nums)<1):\n",
    "        print(\"Not enough elements in the list\")\n",
    "        return\n",
    "    \n",
    "    if(nums[i]!=lower):\n",
    "        result.append([lower,nums[i]-1])\n",
    "        print(\"inside if\")\n",
    "        print(result)\n",
    "    \n",
    "    while i<len(nums) and j<len(nums):\n",
    "        if(nums[j]-nums[i]>1):\n",
    "            result.append([nums[i]+1,nums[j]-1])\n",
    "            print(\"inside while\")\n",
    "            print(result)\n",
    "        i+=1\n",
    "        j+=1\n",
    "    else:\n",
    "        if(nums[i]!=upper):\n",
    "            result.append([nums[i]+1,upper])\n",
    "            print(\"inside else\")\n",
    "            print(result)\n",
    "       \n",
    "    \n",
    "    return result\n",
    "                       \n",
    "shortest_ranges_of_missing_num([0,1,3,50,75],0,1)\n",
    "            \n",
    "        \n",
    "    \n",
    "            \n",
    "            \n",
    "            \n",
    "    "
   ]
  },
  {
   "cell_type": "markdown",
   "id": "a5881415",
   "metadata": {},
   "source": [
    "### Question 8"
   ]
  },
  {
   "cell_type": "code",
   "execution_count": 18,
   "id": "7d6dafb8",
   "metadata": {},
   "outputs": [
    {
     "name": "stdout",
     "output_type": "stream",
     "text": [
      "[[0, 5], [6, 10], [10, 20]]\n"
     ]
    },
    {
     "data": {
      "text/plain": [
       "True"
      ]
     },
     "execution_count": 18,
     "metadata": {},
     "output_type": "execute_result"
    }
   ],
   "source": [
    "def canAttendAllMeetings(intervals):\n",
    "    \n",
    "    def sortCriteria(e):\n",
    "          return e[1]\n",
    "        \n",
    "    intervals.sort(key = sortCriteria)\n",
    "    print(intervals)\n",
    "    for i in range(0,len(intervals)-1):\n",
    "        if intervals[i+1][0]<intervals[i][1]:#checking if one meeting starting before ending of previous meeting\n",
    "            print(\"inside if\")\n",
    "            return False\n",
    "    return True\n",
    "canAttendAllMeetings( [[0,5],[6,10],[10,20]])\n",
    "    "
   ]
  },
  {
   "cell_type": "code",
   "execution_count": null,
   "id": "09f53816",
   "metadata": {},
   "outputs": [],
   "source": []
  }
 ],
 "metadata": {
  "kernelspec": {
   "display_name": "Python 3 (ipykernel)",
   "language": "python",
   "name": "python3"
  },
  "language_info": {
   "codemirror_mode": {
    "name": "ipython",
    "version": 3
   },
   "file_extension": ".py",
   "mimetype": "text/x-python",
   "name": "python",
   "nbconvert_exporter": "python",
   "pygments_lexer": "ipython3",
   "version": "3.9.12"
  }
 },
 "nbformat": 4,
 "nbformat_minor": 5
}
