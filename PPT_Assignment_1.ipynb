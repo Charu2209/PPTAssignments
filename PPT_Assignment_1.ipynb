{
 "cells": [
  {
   "cell_type": "markdown",
   "id": "e6565c3a",
   "metadata": {},
   "source": [
    "### Question 1"
   ]
  },
  {
   "cell_type": "code",
   "execution_count": 7,
   "id": "95bcee1b",
   "metadata": {},
   "outputs": [
    {
     "data": {
      "text/plain": [
       "[0, 1]"
      ]
     },
     "execution_count": 7,
     "metadata": {},
     "output_type": "execute_result"
    }
   ],
   "source": [
    "class TwoIndices: \n",
    "    def returnIndices(self, nums, target):\n",
    "        '''This function return the indices of the 2 numbers in list nums whose sum \n",
    "        is equal to target value.'''\n",
    "        values = {}\n",
    "        \n",
    "        if(len(nums)<2):\n",
    "            #checking the corner case\n",
    "            return \"List does not have enough elements to perform the function.\"\n",
    "        for i in range(len(nums)):\n",
    "            if target-nums[i] in values:\n",
    "                return [values[target-nums[i]],i]\n",
    "            else:\n",
    "                values[nums[i]]=i\n",
    "obj = TwoIndices()\n",
    "obj.returnIndices([2,7,11,15], 9)"
   ]
  },
  {
   "cell_type": "markdown",
   "id": "ad20fdac",
   "metadata": {},
   "source": [
    "### Question 2"
   ]
  },
  {
   "cell_type": "code",
   "execution_count": 27,
   "id": "8e0edb31",
   "metadata": {},
   "outputs": [
    {
     "data": {
      "text/plain": [
       "(2, [2, 2, '_'])"
      ]
     },
     "execution_count": 27,
     "metadata": {},
     "output_type": "execute_result"
    }
   ],
   "source": [
    "class RemoveElements:\n",
    "    '''This function remove the values from the list which matches with the val\n",
    "    and return the number of the elements remaining and the list'''\n",
    "    def remove(self,nums,val):\n",
    "        counter = 0\n",
    "        for value in nums:\n",
    "            if value !=val:\n",
    "                nums[counter] = value\n",
    "                counter = counter+1\n",
    "        nums[counter:len(nums)] = '_'\n",
    "        return counter,nums\n",
    "obj = RemoveElements()\n",
    "obj.remove([3,2,2,3],3)"
   ]
  },
  {
   "cell_type": "markdown",
   "id": "07fcb046",
   "metadata": {},
   "source": [
    "### Question3"
   ]
  },
  {
   "cell_type": "code",
   "execution_count": 31,
   "id": "c95d8afe",
   "metadata": {},
   "outputs": [
    {
     "data": {
      "text/plain": [
       "2"
      ]
     },
     "execution_count": 31,
     "metadata": {},
     "output_type": "execute_result"
    }
   ],
   "source": [
    "class SearchInsertPosition(object):\n",
    "    def searchInsert(self, nums, target):\n",
    "        \"\"\"This function search for the value and return its index and if not found return the\n",
    "        index where it can be inserted\"\"\"\n",
    "\n",
    "        start = 0\n",
    "        end = len(nums) - 1\n",
    "        \n",
    "        while (start <= end):\n",
    "            \n",
    "            mid = (start + end)//2\n",
    "             \n",
    "            if nums[mid] == target:\n",
    "                return mid\n",
    "            \n",
    "            elif target > nums[mid]:\n",
    "                start = mid + 1\n",
    "                \n",
    "            else:\n",
    "                end = mid -1\n",
    "        \n",
    "        return end + 1 # return the insert position\n",
    "obj = SearchInsertPosition()\n",
    "obj.searchInsert([1,3,5,6],5)"
   ]
  },
  {
   "cell_type": "markdown",
   "id": "41c1c0e6",
   "metadata": {},
   "source": [
    "### Question 4"
   ]
  },
  {
   "cell_type": "code",
   "execution_count": 87,
   "id": "d95b2152",
   "metadata": {},
   "outputs": [
    {
     "data": {
      "text/plain": [
       "[1, 2, 4]"
      ]
     },
     "execution_count": 87,
     "metadata": {},
     "output_type": "execute_result"
    }
   ],
   "source": [
    "def my_function(digits):\n",
    "    '''This function adds 1 to the number formed after combining all the numbers in the list'''\n",
    "    if(len(digits)==0)\n",
    "    return \"No element inside the list\"\n",
    "    num = int(''.join(map(str,digits)))\n",
    "    num=num+1\n",
    "    return list(map(int,str(num)))\n",
    "\n",
    "\n",
    "my_function([1,2,3])"
   ]
  },
  {
   "cell_type": "markdown",
   "id": "3af41045",
   "metadata": {},
   "source": [
    "### Question 5"
   ]
  },
  {
   "cell_type": "code",
   "execution_count": 89,
   "id": "df952767",
   "metadata": {},
   "outputs": [
    {
     "data": {
      "text/plain": [
       "[1, 2, 2, 3, 5, 6]"
      ]
     },
     "execution_count": 89,
     "metadata": {},
     "output_type": "execute_result"
    }
   ],
   "source": [
    "\n",
    "    def merge(nums1,m, nums2, n):\n",
    "        '''This function is merging th 2 sorted list in the first list.'''\n",
    "        k = m + n - 1\n",
    "        i, j = m - 1, n - 1\n",
    "        while j >= 0:\n",
    "            if i >= 0 and nums1[i] > nums2[j]:\n",
    "                nums1[k] = nums1[i]\n",
    "                i -= 1\n",
    "            else:\n",
    "                nums1[k] = nums2[j]\n",
    "                j -= 1\n",
    "            k -= 1\n",
    "        return nums1\n",
    "    \n",
    "    merge([1,2,3,0,0,0],3,[2,5,6],3)\n",
    "            \n",
    "    \n",
    "            "
   ]
  },
  {
   "cell_type": "markdown",
   "id": "24286373",
   "metadata": {},
   "source": [
    "### Question 6"
   ]
  },
  {
   "cell_type": "code",
   "execution_count": 92,
   "id": "b3603dfd",
   "metadata": {},
   "outputs": [
    {
     "data": {
      "text/plain": [
       "True"
      ]
     },
     "execution_count": 92,
     "metadata": {},
     "output_type": "execute_result"
    }
   ],
   "source": [
    "def question6(nums):\n",
    "    list_length = len(nums)\n",
    "    set_length = len(set(nums))\n",
    "    \n",
    "    if list_length==set_length:\n",
    "        return False\n",
    "    else:\n",
    "        return True\n",
    "question6( [1,2,3,1])"
   ]
  },
  {
   "cell_type": "markdown",
   "id": "7e28c7e3",
   "metadata": {},
   "source": [
    "### Question 7"
   ]
  },
  {
   "cell_type": "code",
   "execution_count": 97,
   "id": "936f6617",
   "metadata": {},
   "outputs": [
    {
     "name": "stdout",
     "output_type": "stream",
     "text": [
      "[0, 1, 0, 3, 12]\n",
      "[1, 0, 3, 12, 0]\n",
      "[1, 3, 12, 0, 0]\n",
      "[1, 3, 12, 0, 0]\n"
     ]
    },
    {
     "data": {
      "text/plain": [
       "[1, 3, 12, 0, 0]"
      ]
     },
     "execution_count": 97,
     "metadata": {},
     "output_type": "execute_result"
    }
   ],
   "source": [
    "def question7(nums):\n",
    "    '''This function is appending all the 0s of the list to the end'''\n",
    "    \n",
    "    for i in range(len(nums)):\n",
    "        if nums[i]==0:\n",
    "            nums.append(nums.pop(i))\n",
    "            \n",
    "    return nums\n",
    "\n",
    "question7([0,1,0,3,12])\n",
    "        \n",
    "                \n",
    "        \n",
    "        \n",
    "        "
   ]
  },
  {
   "cell_type": "markdown",
   "id": "b855bcae",
   "metadata": {},
   "source": [
    "### Question 8"
   ]
  },
  {
   "cell_type": "code",
   "execution_count": 101,
   "id": "cd5f79c7",
   "metadata": {},
   "outputs": [
    {
     "name": "stdout",
     "output_type": "stream",
     "text": [
      "9\n",
      "7\n",
      "7\n",
      "3\n"
     ]
    },
    {
     "data": {
      "text/plain": [
       "[2, 3]"
      ]
     },
     "execution_count": 101,
     "metadata": {},
     "output_type": "execute_result"
    }
   ],
   "source": [
    "def question8(nums):\n",
    "    ''' this function is finding the duplicate element in the list and returning the correct\n",
    "    element in place of duplicate element'''\n",
    "    list1 = []\n",
    "    count = len(nums)\n",
    "    \n",
    "    num_sum = count*(count+1)//2\n",
    "    for i in nums:\n",
    "        if i in list1:\n",
    "            dup = i\n",
    "        else:\n",
    "            list1.append(i)\n",
    "            num_sum=num_sum-i|\n",
    "        \n",
    "    return [dup,num_sum]\n",
    "\n",
    "question8([1,2,2,4])\n",
    "        \n",
    "    "
   ]
  },
  {
   "cell_type": "code",
   "execution_count": null,
   "id": "980bc2b2",
   "metadata": {},
   "outputs": [],
   "source": []
  }
 ],
 "metadata": {
  "kernelspec": {
   "display_name": "Python 3 (ipykernel)",
   "language": "python",
   "name": "python3"
  },
  "language_info": {
   "codemirror_mode": {
    "name": "ipython",
    "version": 3
   },
   "file_extension": ".py",
   "mimetype": "text/x-python",
   "name": "python",
   "nbconvert_exporter": "python",
   "pygments_lexer": "ipython3",
   "version": "3.9.12"
  }
 },
 "nbformat": 4,
 "nbformat_minor": 5
}
