{
 "cells": [
  {
   "cell_type": "markdown",
   "id": "6d7d55c4",
   "metadata": {},
   "source": [
    "### Question1"
   ]
  },
  {
   "cell_type": "code",
   "execution_count": 1,
   "id": "efcc62ac",
   "metadata": {},
   "outputs": [
    {
     "data": {
      "text/plain": [
       "4"
      ]
     },
     "execution_count": 1,
     "metadata": {},
     "output_type": "execute_result"
    }
   ],
   "source": [
    "def question1(nums):\n",
    "    '''\n",
    "    :type nums: List[int]\n",
    "    :type sum: int\n",
    "    \n",
    "    '''\n",
    "    if(len(nums)<2):\n",
    "        return 'Not enough elements in the list'\n",
    "    \n",
    "    nums.sort()\n",
    "    sum = 0\n",
    "    for i in range(0,len(nums)-1,2):\n",
    "        sum+=nums[i]\n",
    "    return sum\n",
    "question1([1,4,3,2])"
   ]
  },
  {
   "cell_type": "markdown",
   "id": "8d401620",
   "metadata": {},
   "source": [
    "### Question2"
   ]
  },
  {
   "cell_type": "code",
   "execution_count": 11,
   "id": "1eebece9",
   "metadata": {},
   "outputs": [
    {
     "data": {
      "text/plain": [
       "3"
      ]
     },
     "execution_count": 11,
     "metadata": {},
     "output_type": "execute_result"
    }
   ],
   "source": [
    "def question2(candyType):\n",
    "    return min(len(candyType)//2,len(set(candyType)))\n",
    "\n",
    "question2([1,1,2,2,3,3])"
   ]
  },
  {
   "cell_type": "markdown",
   "id": "ca0ff63a",
   "metadata": {},
   "source": [
    "### Question3"
   ]
  },
  {
   "cell_type": "code",
   "execution_count": 5,
   "id": "3920cd2f",
   "metadata": {},
   "outputs": [
    {
     "name": "stdout",
     "output_type": "stream",
     "text": [
      "k 0\n",
      "i 0\n",
      "j 1\n",
      "count 0\n",
      "temp []\n",
      "inside elif\n",
      "k 0\n",
      "i 1\n",
      "j 2\n",
      "count 1\n",
      "temp [1]\n",
      "inside if\n",
      "k 0\n",
      "i 2\n",
      "j 3\n",
      "count 1\n",
      "temp [1, 2]\n",
      "inside if\n",
      "k 0\n",
      "i 3\n",
      "j 4\n",
      "count 1\n",
      "temp [1, 2, 2]\n",
      "inside elif\n",
      "inside 2nd if\n",
      "inside if if\n",
      "temp [1, 2, 2, 2]\n",
      "length 4\n",
      "k 1\n",
      "i 1\n",
      "j 2\n",
      "count 0\n",
      "temp []\n",
      "inside if\n",
      "k 1\n",
      "i 2\n",
      "j 3\n",
      "count 0\n",
      "temp [2]\n",
      "inside if\n",
      "k 1\n",
      "i 3\n",
      "j 4\n",
      "count 0\n",
      "temp [2, 2]\n",
      "inside elif\n",
      "k 1\n",
      "i 4\n",
      "j 5\n",
      "count 1\n",
      "temp [2, 2, 2]\n",
      "inside if\n",
      "k 1\n",
      "i 5\n",
      "j 6\n",
      "count 1\n",
      "temp [2, 2, 2, 3]\n",
      "inside elif\n",
      "inside 2nd if\n",
      "inside if if\n",
      "temp [2, 2, 2, 3, 3]\n",
      "length 5\n",
      "k 2\n",
      "i 2\n",
      "j 3\n",
      "count 0\n",
      "temp []\n",
      "inside if\n",
      "k 2\n",
      "i 3\n",
      "j 4\n",
      "count 0\n",
      "temp [2]\n",
      "inside elif\n",
      "k 2\n",
      "i 4\n",
      "j 5\n",
      "count 1\n",
      "temp [2, 2]\n",
      "inside if\n",
      "k 2\n",
      "i 5\n",
      "j 6\n",
      "count 1\n",
      "temp [2, 2, 3]\n",
      "inside elif\n",
      "inside 2nd if\n",
      "temp [2, 2, 3, 3]\n",
      "length 5\n",
      "k 3\n",
      "i 3\n",
      "j 4\n",
      "count 0\n",
      "temp []\n",
      "inside elif\n",
      "k 3\n",
      "i 4\n",
      "j 5\n",
      "count 1\n",
      "temp [2]\n",
      "inside if\n",
      "k 3\n",
      "i 5\n",
      "j 6\n",
      "count 1\n",
      "temp [2, 3]\n",
      "inside elif\n",
      "inside 2nd if\n",
      "temp [2, 3, 3]\n",
      "length 5\n",
      "k 4\n",
      "i 4\n",
      "j 5\n",
      "count 0\n",
      "temp []\n",
      "inside if\n",
      "k 4\n",
      "i 5\n",
      "j 6\n",
      "count 0\n",
      "temp [3]\n",
      "inside elif\n",
      "k 4\n",
      "i 6\n",
      "j 7\n",
      "count 1\n",
      "temp [3, 3]\n",
      "inside elif\n",
      "inside 2nd if\n",
      "temp [3, 3, 5]\n",
      "length 5\n",
      "k 5\n",
      "i 5\n",
      "j 6\n",
      "count 0\n",
      "temp []\n",
      "inside elif\n",
      "k 5\n",
      "i 6\n",
      "j 7\n",
      "count 1\n",
      "temp [3]\n",
      "inside elif\n",
      "inside 2nd if\n",
      "temp [3, 5]\n",
      "length 5\n",
      "k 6\n",
      "i 6\n",
      "j 7\n",
      "count 0\n",
      "temp []\n",
      "inside elif\n",
      "5\n"
     ]
    }
   ],
   "source": [
    "def question3(nums):\n",
    "    count=0\n",
    "    temp=[]\n",
    "    length=0\n",
    "    i=0\n",
    "    j=0\n",
    "    nums.sort()\n",
    "    \n",
    "    for k in range(0,len(nums)):\n",
    "        \n",
    "         i=k\n",
    "         j=k+1\n",
    "         while(j<len(nums)):\n",
    "            if abs(nums[i]-nums[j])==0 and count<2:\n",
    "                temp.append(nums[i])\n",
    "                i+=1\n",
    "                j+=1\n",
    "            elif abs(nums[i]-nums[j])!=0 and count<2:\n",
    "                temp.append(nums[i])\n",
    "                i+=1\n",
    "                j+=1\n",
    "                count+=1\n",
    "            if (count==2): \n",
    "                if len(temp)>length:\n",
    "                    print('inside if if')\n",
    "                    length=len(temp)\n",
    "                temp=[]\n",
    "                count=0\n",
    "                break\n",
    "    return length\n",
    "    \n",
    "question3([1,3,2,2,5,2,3,7])\n",
    "                \n",
    "                "
   ]
  },
  {
   "cell_type": "markdown",
   "id": "3ec5e0bc",
   "metadata": {},
   "source": [
    "### Question4"
   ]
  },
  {
   "cell_type": "code",
   "execution_count": 3,
   "id": "451b830e",
   "metadata": {},
   "outputs": [
    {
     "data": {
      "text/plain": [
       "True"
      ]
     },
     "execution_count": 3,
     "metadata": {},
     "output_type": "execute_result"
    }
   ],
   "source": [
    "def question4(flowerbed,n):\n",
    "    i,j,count=0,1,0\n",
    "    while(i<len(flowerbed) and j<len(flowerbed)):\n",
    "        if(flowerbed[i]+flowerbed[j]==0):\n",
    "            i+=4\n",
    "            j+=4\n",
    "            count+=1\n",
    "        else:\n",
    "            i+=2\n",
    "            j+=2\n",
    "    if(n<=count): return True\n",
    "    else: return False\n",
    "    \n",
    "question4([0,0,1,1,0,0,0,1,0,0,1,1,0,0,0,0,1],4)\n",
    "            \n",
    "        "
   ]
  },
  {
   "cell_type": "markdown",
   "id": "1307dcb8",
   "metadata": {},
   "source": [
    "### Question5"
   ]
  },
  {
   "cell_type": "code",
   "execution_count": 4,
   "id": "b8b48b79",
   "metadata": {},
   "outputs": [
    {
     "data": {
      "text/plain": [
       "112"
      ]
     },
     "execution_count": 4,
     "metadata": {},
     "output_type": "execute_result"
    }
   ],
   "source": [
    "def question5(nums):\n",
    "    if len(nums)<2:\n",
    "        print('not enough elements in list')\n",
    "        return\n",
    "    nums.sort\n",
    "    return nums[-1]*nums[-2]*nums[-3]\n",
    "question5([1,2,8,7])"
   ]
  },
  {
   "cell_type": "markdown",
   "id": "83f2aee9",
   "metadata": {},
   "source": [
    "### Question6"
   ]
  },
  {
   "cell_type": "code",
   "execution_count": 5,
   "id": "88a3c6b2",
   "metadata": {},
   "outputs": [
    {
     "data": {
      "text/plain": [
       "4"
      ]
     },
     "execution_count": 5,
     "metadata": {},
     "output_type": "execute_result"
    }
   ],
   "source": [
    "def question6(nums,target):\n",
    "    if len(nums)<1:\n",
    "        print('not enough elements in list')\n",
    "        return\n",
    "    if target in nums:\n",
    "        return nums.index(target)\n",
    "\n",
    "question6([-1,0,3,5,9,12],9)\n"
   ]
  },
  {
   "cell_type": "code",
   "execution_count": null,
   "id": "ba9b72d1",
   "metadata": {},
   "outputs": [],
   "source": []
  },
  {
   "cell_type": "code",
   "execution_count": null,
   "id": "22c2b3c2",
   "metadata": {},
   "outputs": [],
   "source": [
    "\n",
    "            \n",
    "            \n",
    "            "
   ]
  },
  {
   "cell_type": "code",
   "execution_count": null,
   "id": "8fde25e4",
   "metadata": {},
   "outputs": [],
   "source": []
  },
  {
   "cell_type": "code",
   "execution_count": null,
   "id": "b57d67d9",
   "metadata": {},
   "outputs": [],
   "source": []
  },
  {
   "cell_type": "code",
   "execution_count": null,
   "id": "1e051c64",
   "metadata": {},
   "outputs": [],
   "source": []
  }
 ],
 "metadata": {
  "kernelspec": {
   "display_name": "Python 3 (ipykernel)",
   "language": "python",
   "name": "python3"
  },
  "language_info": {
   "codemirror_mode": {
    "name": "ipython",
    "version": 3
   },
   "file_extension": ".py",
   "mimetype": "text/x-python",
   "name": "python",
   "nbconvert_exporter": "python",
   "pygments_lexer": "ipython3",
   "version": "3.9.12"
  }
 },
 "nbformat": 4,
 "nbformat_minor": 5
}
