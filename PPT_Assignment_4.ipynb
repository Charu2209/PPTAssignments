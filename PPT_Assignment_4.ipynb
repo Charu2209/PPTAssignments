{
 "cells": [
  {
   "cell_type": "markdown",
   "id": "12597afd",
   "metadata": {},
   "source": [
    "### Question 1"
   ]
  },
  {
   "cell_type": "code",
   "execution_count": 3,
   "id": "99042c66",
   "metadata": {},
   "outputs": [
    {
     "name": "stdout",
     "output_type": "stream",
     "text": [
      "[1, 5]\n"
     ]
    }
   ],
   "source": [
    "def question1(arr1,arr2,arr3):\n",
    "    \n",
    "    elements_in_all_lists=[]\n",
    "    \n",
    "    elements_in_all_lists=[i for i in arr1 if i in arr2 and i in arr3]\n",
    "    print(elements_in_all_lists)\n",
    "\n",
    "question1([1,2,3,4,5], [1,2,5,7,9],[1,3,4,5,8])\n",
    "    "
   ]
  },
  {
   "cell_type": "markdown",
   "id": "9c3b6539",
   "metadata": {},
   "source": [
    "### Question 2"
   ]
  },
  {
   "cell_type": "code",
   "execution_count": 11,
   "id": "5559e950",
   "metadata": {},
   "outputs": [
    {
     "data": {
      "text/plain": [
       "[[1, 3], [4, 6]]"
      ]
     },
     "execution_count": 11,
     "metadata": {},
     "output_type": "execute_result"
    }
   ],
   "source": [
    "import numpy as np\n",
    "\n",
    "def question2(nums1,nums2):\n",
    "    \n",
    "    result_list=[]\n",
    "    \n",
    "    set1=set(nums1)\n",
    "    set2=set(nums2)\n",
    "    \n",
    "    result_list.append(list(set1.difference(set2)))\n",
    "    result_list.append(list(set2.difference(set1)))\n",
    "    \n",
    "    return result_list\n",
    "\n",
    "question2([1,2,3],[2,4,6])\n",
    "\n",
    "    \n",
    "    \n",
    "    \n",
    "    \n",
    "    "
   ]
  },
  {
   "cell_type": "markdown",
   "id": "1ad911d4",
   "metadata": {},
   "source": [
    "### Question 3"
   ]
  },
  {
   "cell_type": "code",
   "execution_count": 2,
   "id": "982e7096",
   "metadata": {},
   "outputs": [
    {
     "name": "stdout",
     "output_type": "stream",
     "text": [
      "m 3\n"
     ]
    },
    {
     "data": {
      "text/plain": [
       "[[1, 4, 7], [2, 5, 8], [3, 6, 9]]"
      ]
     },
     "execution_count": 2,
     "metadata": {},
     "output_type": "execute_result"
    }
   ],
   "source": [
    "def question3(matrix):\n",
    "    \n",
    "    m=len(matrix)\n",
    "    n=len(matrix[0])\n",
    "    i=0\n",
    "    j=0\n",
    "    result_list=[] \n",
    "    \n",
    "    while i<m:\n",
    "        temp_list=[]\n",
    "        while j<n:\n",
    "            temp_list.append(matrix[j][i])\n",
    "            j+=1\n",
    "        result_list.append(temp_list)\n",
    "        i+=1\n",
    "        j=0\n",
    "    \n",
    "    return result_list\n",
    "    \n",
    "            \n",
    "question3([[1,2,3],[4,5,6],[7,8,9]])\n",
    "            \n",
    "    "
   ]
  },
  {
   "cell_type": "markdown",
   "id": "58c0d0c3",
   "metadata": {},
   "source": [
    "### Question 4"
   ]
  },
  {
   "cell_type": "code",
   "execution_count": 3,
   "id": "7df0e6ba",
   "metadata": {},
   "outputs": [
    {
     "data": {
      "text/plain": [
       "4"
      ]
     },
     "execution_count": 3,
     "metadata": {},
     "output_type": "execute_result"
    }
   ],
   "source": [
    "def question4(nums):\n",
    "    \n",
    "    nums.sort()\n",
    "    i=0\n",
    "    sum=0\n",
    "    \n",
    "    while i<len(nums):\n",
    "        sum+=nums[i]\n",
    "        i+=2\n",
    "    return sum\n",
    "        \n",
    "question4([1,4,3,2])        "
   ]
  },
  {
   "cell_type": "markdown",
   "id": "fcd5082f",
   "metadata": {},
   "source": [
    "### Question 5"
   ]
  },
  {
   "cell_type": "code",
   "execution_count": 9,
   "id": "7bcf2b59",
   "metadata": {},
   "outputs": [
    {
     "data": {
      "text/plain": [
       "3"
      ]
     },
     "execution_count": 9,
     "metadata": {},
     "output_type": "execute_result"
    }
   ],
   "source": [
    "def question5(n):\n",
    "    \n",
    "    complete_row=0\n",
    "    for i in range(1,n+1):\n",
    "        if n>=i:\n",
    "            complete_row+=1\n",
    "            n-=i\n",
    "    return complete_row\n",
    "\n",
    "question5(6)"
   ]
  },
  {
   "cell_type": "markdown",
   "id": "2dca09fe",
   "metadata": {},
   "source": [
    "### Question 6"
   ]
  },
  {
   "cell_type": "code",
   "execution_count": 2,
   "id": "2f7d29da",
   "metadata": {},
   "outputs": [
    {
     "data": {
      "text/plain": [
       "[0, 1, 9, 16, 100]"
      ]
     },
     "execution_count": 2,
     "metadata": {},
     "output_type": "execute_result"
    }
   ],
   "source": [
    "def question6(nums):\n",
    "    \n",
    "    result_arr = []\n",
    "    \n",
    "    result_arr = [i*i for i in nums]\n",
    "    result_arr.sort()\n",
    "    return result_arr\n",
    "\n",
    "question6([-4,-1,0,3,10])"
   ]
  },
  {
   "cell_type": "markdown",
   "id": "55ffd064",
   "metadata": {},
   "source": [
    "### Question 7"
   ]
  },
  {
   "cell_type": "code",
   "execution_count": 16,
   "id": "25610e01",
   "metadata": {},
   "outputs": [
    {
     "data": {
      "text/plain": [
       "4"
      ]
     },
     "execution_count": 16,
     "metadata": {},
     "output_type": "execute_result"
    }
   ],
   "source": [
    "def question7(m,n,ops):\n",
    "    \n",
    "    min_row=min(m,ops[0][0])\n",
    "    min_col=min(n,ops[0][1])\n",
    "    \n",
    "    for row,col in ops:\n",
    "        min_row=min(row,min_row)\n",
    "        min_col = min(col,min_col)\n",
    "    \n",
    "    return min_row*min_col\n",
    "question7(3,3,[[2,2],[3,3]])"
   ]
  },
  {
   "cell_type": "markdown",
   "id": "fc6d0513",
   "metadata": {},
   "source": [
    "### Question 8"
   ]
  },
  {
   "cell_type": "code",
   "execution_count": 5,
   "id": "0fd0522d",
   "metadata": {},
   "outputs": [
    {
     "data": {
      "text/plain": [
       "[2, 3, 5, 4, 1, 7]"
      ]
     },
     "execution_count": 5,
     "metadata": {},
     "output_type": "execute_result"
    }
   ],
   "source": [
    "def question8(nums,n):\n",
    "    \n",
    "    result=[]\n",
    "    for i in range(0,len(nums)//2):\n",
    "        result.append(nums[i])\n",
    "        result.append(nums[i+n])\n",
    "        \n",
    "    return result\n",
    "\n",
    "question8([2,5,1,3,4,7],3)"
   ]
  },
  {
   "cell_type": "code",
   "execution_count": null,
   "id": "80478e1f",
   "metadata": {},
   "outputs": [],
   "source": []
  }
 ],
 "metadata": {
  "kernelspec": {
   "display_name": "Python 3 (ipykernel)",
   "language": "python",
   "name": "python3"
  },
  "language_info": {
   "codemirror_mode": {
    "name": "ipython",
    "version": 3
   },
   "file_extension": ".py",
   "mimetype": "text/x-python",
   "name": "python",
   "nbconvert_exporter": "python",
   "pygments_lexer": "ipython3",
   "version": "3.9.12"
  }
 },
 "nbformat": 4,
 "nbformat_minor": 5
}
